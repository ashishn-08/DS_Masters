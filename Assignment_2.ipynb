{
 "cells": [
  {
   "cell_type": "markdown",
   "id": "fbaf502f-253b-43b9-bdd2-49d0b43a6c37",
   "metadata": {},
   "source": [
    "# ASSIGNMENT - 2"
   ]
  },
  {
   "cell_type": "markdown",
   "id": "72946309-1970-45b8-ae9d-d7a88ddc33b2",
   "metadata": {
    "tags": []
   },
   "source": [
    "### Q1. How do you comment code in Python? What are the different types of comments?"
   ]
  },
  {
   "cell_type": "code",
   "execution_count": 1,
   "id": "89dfef37-8e7b-4c92-bccf-73038768d9de",
   "metadata": {},
   "outputs": [
    {
     "ename": "IndentationError",
     "evalue": "unexpected indent (3326783271.py, line 13)",
     "output_type": "error",
     "traceback": [
      "\u001b[0;36m  Cell \u001b[0;32mIn[1], line 13\u001b[0;36m\u001b[0m\n\u001b[0;31m    '''\u001b[0m\n\u001b[0m    ^\u001b[0m\n\u001b[0;31mIndentationError\u001b[0m\u001b[0;31m:\u001b[0m unexpected indent\n"
     ]
    }
   ],
   "source": [
    "\n",
    "# Following are the ways through which code can be marked as a comment in python:\n",
    "# 1. Using # at the beginning of line\n",
    "# 2. Using '', \" \" or '''  '''\n",
    "\n",
    "# Types of comments -\n",
    "# 1. single line comment \n",
    "# eg:\n",
    "#     # This is a comment\n",
    "#     ' This is a comment'\n",
    "#     \"This is a comment\"\n",
    "# 2. Multi line comment\n",
    "# eg: \n",
    "    '''\n",
    "    This is a\n",
    "    multiline\n",
    "    comment\n",
    "    '''\n"
   ]
  },
  {
   "cell_type": "markdown",
   "id": "86716bfd-1994-4706-8057-9494ef9277fb",
   "metadata": {},
   "source": [
    "### Q2. What are variables in Python? How do you declare and assign values to variables?"
   ]
  },
  {
   "cell_type": "code",
   "execution_count": null,
   "id": "c1cbdc83-9f03-44eb-b32a-cacaa4490b38",
   "metadata": {},
   "outputs": [],
   "source": [
    "# Variable is a name/ reference of a stored value.\n",
    "# In python variables do not need to be explicitily declared. \n",
    "# a variable can be declared using assignment (=) operator. \n",
    "# Variable name can start with alphabet or underscore. Keywords should not be used for naming variable.\n",
    "x = 12\n",
    "print ('Type of variable x:', type(x))\n",
    "\n",
    "y='String'\n",
    "print ('Type of variable y:',type(y))\n"
   ]
  },
  {
   "cell_type": "markdown",
   "id": "e83e28e9-542f-4056-a62a-891a80bfe049",
   "metadata": {},
   "source": [
    "### Q3. How do you convert one data type to another in Python?"
   ]
  },
  {
   "cell_type": "code",
   "execution_count": null,
   "id": "86fb0d8b-25fc-4e12-b936-4b2720e41e0a",
   "metadata": {},
   "outputs": [],
   "source": [
    "# Using type conversion we can convert data types from one to another\n",
    "# If the programmers is explicitly converting type it is called Type Casting\n",
    "# If the same is done by interpreter, it is called coercion\n",
    "\n",
    "x = '45'\n",
    "print ('Data type of x is:', type(x), ' which can be converted into :', type(int(x)), 'using int')"
   ]
  },
  {
   "cell_type": "markdown",
   "id": "6deae93f-8b34-4e60-9398-3b16b1d31266",
   "metadata": {},
   "source": [
    "### Q4. How do you write and execute a Python script from the command line?"
   ]
  },
  {
   "cell_type": "code",
   "execution_count": null,
   "id": "2028956c-5ec7-4f29-8c07-0ab1316425ef",
   "metadata": {},
   "outputs": [],
   "source": [
    "# Using 'python' command, the script can be written and executed from the command line\n",
    "# for eg: python assignment.py"
   ]
  },
  {
   "cell_type": "markdown",
   "id": "087108dc-5412-4a91-9f25-806244404ed8",
   "metadata": {},
   "source": [
    "### Q5. Given a list my_list = [1, 2, 3, 4, 5], write the code to slice the list and obtain the sub-list [2, 3]."
   ]
  },
  {
   "cell_type": "code",
   "execution_count": null,
   "id": "21a65e73-acb3-4b6d-aee5-ac8bd1d98fb3",
   "metadata": {},
   "outputs": [],
   "source": [
    "my_list = [1, 2, 3, 4, 5]\n",
    "my_sub_list = my_list[1:3]\n",
    "print(my_sub_list)"
   ]
  },
  {
   "cell_type": "markdown",
   "id": "0f9d5cd7-2bda-44e3-b828-50c6af42d6f0",
   "metadata": {},
   "source": [
    "### Q6. What is a complex number in mathematics, and how is it represented in Python?\n"
   ]
  },
  {
   "cell_type": "code",
   "execution_count": null,
   "id": "633871fc-3c26-4837-a491-db64473a0e46",
   "metadata": {},
   "outputs": [],
   "source": [
    "# a complex no is made up of a real and imaginary no\n",
    "# eg: 7+67i\n",
    "# In python it is representated by j, for eg:\n",
    "cmplx = 7+67j\n",
    "type(cmplx)"
   ]
  },
  {
   "cell_type": "markdown",
   "id": "7b1bb3be-5df2-48ff-8dfb-d2fbf670ba1e",
   "metadata": {},
   "source": [
    "### Q7. What is the correct way to declare a variable named age and assign the value 25 to it?\n"
   ]
  },
  {
   "cell_type": "code",
   "execution_count": null,
   "id": "89fb7aa9-2562-4a35-ad70-af6bc5439a4f",
   "metadata": {},
   "outputs": [],
   "source": [
    "age = 25\n",
    "print (age)"
   ]
  },
  {
   "cell_type": "markdown",
   "id": "e37bffd0-8f19-4c1e-b59c-b7b087845815",
   "metadata": {},
   "source": [
    "### Q8. Declare a variable named price and assign the value 9.99 to it. What data type does this variable belong to?\n"
   ]
  },
  {
   "cell_type": "code",
   "execution_count": null,
   "id": "056ecf4f-430e-4adf-85a2-e34049e31edd",
   "metadata": {},
   "outputs": [],
   "source": [
    "price = 9.99\n",
    "# it is a float type\n",
    "type(price)"
   ]
  },
  {
   "cell_type": "markdown",
   "id": "5baaa6da-93a7-44ba-bcc3-7c6ef9e7fbef",
   "metadata": {},
   "source": [
    "### Q9. Create a variable named name and assign your full name to it as a string. How would you print the value of this variable?"
   ]
  },
  {
   "cell_type": "code",
   "execution_count": null,
   "id": "9934c3e6-a31b-49bd-8171-414513c48fa8",
   "metadata": {},
   "outputs": [],
   "source": [
    "name = 'Ashish Nair'\n",
    "print(f'My name is : {name}')"
   ]
  },
  {
   "cell_type": "markdown",
   "id": "09b93ba9-db12-4451-8fe8-ef749a1d5e70",
   "metadata": {},
   "source": [
    "### Q10. Given the string \"Hello, World!\", extract the substring \"World\".\n"
   ]
  },
  {
   "cell_type": "code",
   "execution_count": null,
   "id": "6c969c5f-7d2e-4354-bf6f-d573aea23a91",
   "metadata": {},
   "outputs": [],
   "source": [
    "msg = ' Hello World!'\n",
    "msg_splt = msg[6:12]\n",
    "print('extracted substring is : ', msg_splt)"
   ]
  },
  {
   "cell_type": "markdown",
   "id": "6ca723da-6c9f-4084-800f-262be4a37e67",
   "metadata": {},
   "source": [
    "### Q11. Create a variable named \"is_student\" and assign it a boolean value indicating whether you are currently a student or not.\n"
   ]
  },
  {
   "cell_type": "code",
   "execution_count": null,
   "id": "22e0f1ff-04e0-4ea7-a80f-62790cb0822f",
   "metadata": {},
   "outputs": [],
   "source": [
    "is_student = True\n",
    "# is_student = False\n",
    "# type(is_student)\n",
    "if is_student == 1:\n",
    "    print('You are a student')\n",
    "else:\n",
    "    print('You are not a student')"
   ]
  }
 ],
 "metadata": {
  "kernelspec": {
   "display_name": "Python 3 (ipykernel)",
   "language": "python",
   "name": "python3"
  },
  "language_info": {
   "codemirror_mode": {
    "name": "ipython",
    "version": 3
   },
   "file_extension": ".py",
   "mimetype": "text/x-python",
   "name": "python",
   "nbconvert_exporter": "python",
   "pygments_lexer": "ipython3",
   "version": "3.10.8"
  }
 },
 "nbformat": 4,
 "nbformat_minor": 5
}
