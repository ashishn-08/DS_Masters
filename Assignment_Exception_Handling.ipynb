{
 "cells": [
  {
   "cell_type": "markdown",
   "id": "1e19a137-d38a-4919-bcc2-31c76bf6a969",
   "metadata": {},
   "source": [
    "# EXCEPTION HANDLING "
   ]
  },
  {
   "cell_type": "markdown",
   "id": "0698f072-b046-4ad8-8fe7-2c72a7a9d332",
   "metadata": {},
   "source": [
    "## Q1. What is an Exception in python? Write the difference between Exceptions and Syntax errors."
   ]
  },
  {
   "cell_type": "code",
   "execution_count": null,
   "id": "c2d51b29-439b-4a91-90f1-fa37d1fb9224",
   "metadata": {},
   "outputs": [],
   "source": [
    "'''\n",
    "Exception is an event that occurs during execution of the program (which is syntactically correct) \n",
    "and which disrupts the normalflow of the program.\n",
    "\n",
    "Difference:\n",
    "syntax error occurs when the program is syntactically not correct. Syntax errors cannot be handled.\n",
    "the Exceptions are syntactically correct. Exceptions can be handled.\n",
    "'''"
   ]
  },
  {
   "cell_type": "markdown",
   "id": "c4820764-b4ea-442a-8a3d-1aa339a35391",
   "metadata": {},
   "source": [
    "## Q2. What happens when an exception is not handled? Explain with an example."
   ]
  },
  {
   "cell_type": "code",
   "execution_count": null,
   "id": "036722fa-713f-4cf5-9946-27ce542ebf04",
   "metadata": {},
   "outputs": [],
   "source": [
    "'''\n",
    "When an exception is not handled it produces error for eg. ZeroDivisionError, TypeError etc. and stops the flow\n",
    "of program\n",
    "'''"
   ]
  },
  {
   "cell_type": "code",
   "execution_count": null,
   "id": "ed9dbab2-755a-4f2f-b4be-b68563aec44e",
   "metadata": {},
   "outputs": [],
   "source": [
    "a = 'str'\n",
    "b = 11\n",
    "c = 0 \n",
    "\n",
    "#TypeError\n",
    "a/b\n",
    "\n",
    "#ZeroDivisionError\n",
    "b/c"
   ]
  },
  {
   "cell_type": "markdown",
   "id": "64841678-68a2-404d-a43e-e0f0c880eea1",
   "metadata": {},
   "source": [
    "## Q3. Which Python statements are used to catch and handle exceptions? Explain with an example."
   ]
  },
  {
   "cell_type": "code",
   "execution_count": null,
   "id": "62086e65-ba54-468a-8a11-aba5e8eed2e4",
   "metadata": {},
   "outputs": [],
   "source": [
    "'''\n",
    "In python, try-except block is used to catch and handle the exceptions. \n",
    "If the try block fails due to exception then the 'except' block catches the exception and code following 'except' is run. \n",
    "If the try block doesn't fail the exception is not run.\n",
    "'''"
   ]
  },
  {
   "cell_type": "code",
   "execution_count": null,
   "id": "36b9ec6c-e0d6-465e-b389-6e7c44f3608c",
   "metadata": {},
   "outputs": [],
   "source": [
    "try:\n",
    "    a = input('Input integer: ')\n",
    "    num = int(a)\n",
    "    den = 10\n",
    "    \n",
    "    print(num/den)\n",
    "    \n",
    "    print('No Exception encountered')\n",
    "except:\n",
    "    # if type(num) != 'int':\n",
    "    print('Value Error encountered. Enter integer')\n",
    "    \n",
    "    print('Exception handled')"
   ]
  },
  {
   "cell_type": "markdown",
   "id": "95385570-ecec-48ed-923a-8b8c59b10a19",
   "metadata": {},
   "source": [
    "## Q4. Explain with an example:\n",
    "\n",
    "## a. try and else \n",
    "## b. finall\n",
    "## c. raise\n",
    "\n",
    "''"
   ]
  },
  {
   "cell_type": "code",
   "execution_count": null,
   "id": "96344669-3309-4f92-b58d-2e6a06106ef3",
   "metadata": {},
   "outputs": [],
   "source": [
    "#a. try and else\n",
    "'''\n",
    "a. try and else : If try block is successful ie no exception is raised then else block will run.\n",
    "b. finally : Block in finally will run no matter try block is successful or exception is raised.\n",
    "c. raise : this is used to raise exception if condition fails and custom message can be displayed using raise.\n",
    "'''\n",
    "\n",
    "from datetime import datetime, date\n",
    "\n",
    "try:\n",
    "    dob_input = input('Enter your date of birth: ')\n",
    "    dob = datetime.strptime(dob_input, '%Y-%m-%d')\n",
    "    \n",
    "    #function to calculate age\n",
    "    def age_calculation(dob):\n",
    "        today = date.today()\n",
    "        age = ((today.year - dob.year)*12 + (today.month - dob.month))/12\n",
    "        return age\n",
    "    \n",
    "    \n",
    "    age = age_calculation(dob)\n",
    "    print( \"Your age as on {} is : {} year(s)\".format(date.today().strftime('%Y-%m-%d'), age))\n",
    "\n",
    "    \n",
    "except Exception as e:\n",
    "    print('Error in code: ',e)\n",
    "\n",
    "\n",
    "#b. finally\n",
    "finally:\n",
    "    print('\\n End of Age program')"
   ]
  },
  {
   "cell_type": "code",
   "execution_count": null,
   "id": "807ba558-e815-4be5-a3d4-055ef97e6e1e",
   "metadata": {},
   "outputs": [],
   "source": [
    "#raise\n",
    "x = int(input('Enter marks obtained in test out of 100: '))\n",
    "\n",
    "if x > 100:\n",
    "    raise Exception('Value entered is more than 100')"
   ]
  },
  {
   "cell_type": "markdown",
   "id": "672c7046-8f2f-4082-b890-532a1b2a7a5e",
   "metadata": {},
   "source": [
    "## Q5. What are Custom Exceptions in python? Why do we need Custom Exceptions? Explain with an example."
   ]
  },
  {
   "cell_type": "code",
   "execution_count": null,
   "id": "35971235-d348-4b51-bd27-4c6a255ecbee",
   "metadata": {},
   "outputs": [],
   "source": [
    "'''\n",
    "Custom exceptions are exceptions that are user defined and which inherit from Exception class.\n",
    "They are required to handle user defined errors specific to use case.\n",
    "\n",
    "For example a function is to be created which calculates age from date of birth entered by user.\n",
    "But the date of birth entered should be between '1900-01-01' and today. \n",
    "For any date outside these 2 dates, age should not be calculated by the function. \n",
    "As such user defined exception is created which would be raised on encountering any valid date outside the given range of dates.\n",
    "\n",
    "Code is provided as solution to Q6.\n",
    "'''"
   ]
  },
  {
   "cell_type": "markdown",
   "id": "d76b5664-55f9-4671-8afe-a79d36ff00d6",
   "metadata": {},
   "source": [
    "## Q6. Create a custom exception class. Use this class to handle an exception."
   ]
  },
  {
   "cell_type": "code",
   "execution_count": null,
   "id": "1d2b2d7b-af7b-4eed-9198-070a12520a22",
   "metadata": {},
   "outputs": [],
   "source": [
    "from datetime import datetime, date\n",
    "\n",
    "#Custom Exception class\n",
    "class date_exception (Exception):\n",
    "    def __init__(self, msg):\n",
    "        self.msg = msg\n",
    "        \n",
    "#Function to check date of birth        \n",
    "def dob_check(dob_input):\n",
    "        \n",
    "    try:\n",
    "        #Check if age is in valid range ie between 1900-01-01 and today, if not then raise specific error      \n",
    "        dob = datetime.strptime(dob_input, '%Y-%m-%d')\n",
    "        if dob > datetime.today():\n",
    "            raise date_exception('Future Date entered')\n",
    "        elif dob < datetime(1900,1,1):\n",
    "            raise date_exception('Date of Birth entered is prior to 1900-01-01')\n",
    "            \n",
    "    except Exception as e:\n",
    "        print('Error in Input entered: ',e)\n",
    "    \n",
    "    else:\n",
    "        return dob\n",
    "\n",
    "    \n",
    "#Function to calculate age        \n",
    "def age_calculation(date_):\n",
    "    today = date.today()   \n",
    "    age = int(((today.year - date_.year)*12 + (today.month - date_.month))/12)\n",
    "    return age\n",
    "    \n",
    "    \n",
    "    \n",
    "#Calculate age from input given by user   \n",
    "try:\n",
    "    dob_inp = input('Enter your date of birth: ')\n",
    "    date_of_birth = dob_check(dob_inp)\n",
    "    \n",
    "except date_exception as e:\n",
    "    print('Invalid Date Error: ',e)\n",
    "    \n",
    "else:\n",
    "    if date_of_birth != None:\n",
    "        Age = age_calculation(date_of_birth)\n",
    "        print(\"Your age as on {} is : {} year(s) \".format(date.today().strftime('%Y-%m-%d'), Age))\n",
    "        \n",
    "finally:\n",
    "    print('Exiting Program')"
   ]
  },
  {
   "cell_type": "code",
   "execution_count": null,
   "id": "3e53e32c-f76b-4f3f-8d4b-30ac0f50d73a",
   "metadata": {},
   "outputs": [],
   "source": []
  }
 ],
 "metadata": {
  "kernelspec": {
   "display_name": "Python 3 (ipykernel)",
   "language": "python",
   "name": "python3"
  },
  "language_info": {
   "codemirror_mode": {
    "name": "ipython",
    "version": 3
   },
   "file_extension": ".py",
   "mimetype": "text/x-python",
   "name": "python",
   "nbconvert_exporter": "python",
   "pygments_lexer": "ipython3",
   "version": "3.10.8"
  }
 },
 "nbformat": 4,
 "nbformat_minor": 5
}
