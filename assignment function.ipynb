{
 "cells": [
  {
   "cell_type": "markdown",
   "id": "1252f521-2e61-44af-8172-8798d715b90c",
   "metadata": {},
   "source": [
    "# FUNCTION ASSIGNMENT"
   ]
  },
  {
   "cell_type": "markdown",
   "id": "513ff3e0-f87b-42c4-86b5-bea60985a6f8",
   "metadata": {},
   "source": [
    "### Q1. Which keyword is used to create a function? Create a function to return a list of odd numbers in therange of 1 to 25."
   ]
  },
  {
   "cell_type": "code",
   "execution_count": 1,
   "id": "e41a937b-627a-410a-b50a-b80d3f7c2e85",
   "metadata": {},
   "outputs": [],
   "source": [
    "# def keyword is used to create functions."
   ]
  },
  {
   "cell_type": "code",
   "execution_count": 2,
   "id": "30f3f731-25b3-4cf7-b43d-b1340b8e7a4b",
   "metadata": {},
   "outputs": [],
   "source": [
    "def fun_odd(lst):\n",
    "    return [x for x in lst if x%2 != 0]"
   ]
  },
  {
   "cell_type": "code",
   "execution_count": 3,
   "id": "02427061-d1af-41d3-8ae3-edafa0c8ef87",
   "metadata": {},
   "outputs": [
    {
     "data": {
      "text/plain": [
       "[1, 3, 5, 7, 9, 11, 13, 15, 17, 19, 21, 23, 25, 27, 29]"
      ]
     },
     "execution_count": 3,
     "metadata": {},
     "output_type": "execute_result"
    }
   ],
   "source": [
    "lst = [x for x in range(1,30)]\n",
    "fun_odd(lst)"
   ]
  },
  {
   "cell_type": "markdown",
   "id": "5b366aca-212a-47c7-8605-171ad07e4638",
   "metadata": {},
   "source": [
    "### Q2. Why *args and **kwargs is used in some functions? Create a function each for *args and **kwargs to demonstrate their use."
   ]
  },
  {
   "cell_type": "code",
   "execution_count": 4,
   "id": "76b6ef08-5a17-48d7-b2e4-03351649fe4b",
   "metadata": {},
   "outputs": [
    {
     "data": {
      "text/plain": [
       "'\\n*args is used when the no of arguments to pass to function is not fixed.\\n**kwargs is used when the no of arguments (having keyword) is not fixed.\\n\\n'"
      ]
     },
     "execution_count": 4,
     "metadata": {},
     "output_type": "execute_result"
    }
   ],
   "source": [
    "'''\n",
    "*args is used when the no of arguments to pass to function is not fixed.\n",
    "**kwargs is used when the no of arguments (having keyword) is not fixed.\n",
    "\n",
    "'''"
   ]
  },
  {
   "cell_type": "code",
   "execution_count": 5,
   "id": "d61d3056-c667-4448-9057-6b34a2eef628",
   "metadata": {},
   "outputs": [],
   "source": [
    "def fun1 (*args):\n",
    "    return [i for i in args if i%3 == 0]"
   ]
  },
  {
   "cell_type": "code",
   "execution_count": 6,
   "id": "5c905209-bbf7-4e9c-88af-00f42525da38",
   "metadata": {},
   "outputs": [
    {
     "name": "stdout",
     "output_type": "stream",
     "text": [
      "[30, 57, 45, 27]\n",
      "[30, 57, 45]\n",
      "[27]\n"
     ]
    }
   ],
   "source": [
    "print(fun1(23,30,57,28,45,4,8,47,27))\n",
    "\n",
    "print(fun1(23,30,57,28,45))\n",
    "\n",
    "print(fun1(23,8,47,27))"
   ]
  },
  {
   "cell_type": "code",
   "execution_count": 7,
   "id": "f78a146a-6aad-4d99-9e62-56bf915521e2",
   "metadata": {},
   "outputs": [],
   "source": [
    "def fun2(**kwargs):\n",
    "    return {i:kwargs[i] for i in kwargs}"
   ]
  },
  {
   "cell_type": "code",
   "execution_count": 8,
   "id": "12d2267f-8d49-4565-9725-6420732f4225",
   "metadata": {},
   "outputs": [
    {
     "name": "stdout",
     "output_type": "stream",
     "text": [
      "{'name': 'Rakesh', 'age': 23, 'city': 'Delhi'}\n",
      "{'name': 'Rakesh', 'age': 23, 'city': 'Delhi', 'pin': '110045'}\n"
     ]
    }
   ],
   "source": [
    "print(fun2(name = 'Rakesh', age = 23, city = 'Delhi'))\n",
    "print(fun2(name = 'Rakesh', age = 23, city = 'Delhi', pin = '110045'))\n"
   ]
  },
  {
   "cell_type": "markdown",
   "id": "2f79910d-50de-405d-bcbb-9766379082c0",
   "metadata": {},
   "source": [
    "### Q3. What is an iterator in python? Name the method used to initialise the iterator object and the method used for iteration. Use these methods to print the first five elements of the given list [2, 4, 6, 8, 10, 12, 14, 16,18, 20]."
   ]
  },
  {
   "cell_type": "code",
   "execution_count": 9,
   "id": "bc893119-aaa5-4419-8958-4710d639477d",
   "metadata": {},
   "outputs": [
    {
     "data": {
      "text/plain": [
       "'\\nAn iterator is an object which can be iterated.\\niter() is used to initialize the iterator object like list, tuple, set, dictionary.\\nnext() is used for iteration\\nfor loop can also be used for iteration\\n'"
      ]
     },
     "execution_count": 9,
     "metadata": {},
     "output_type": "execute_result"
    }
   ],
   "source": [
    "'''\n",
    "An iterator is an object which can be iterated.\n",
    "iter() is used to initialize the iterator object like list, tuple, set, dictionary.\n",
    "next() is used for iteration\n",
    "for loop can also be used for iteration\n",
    "'''"
   ]
  },
  {
   "cell_type": "code",
   "execution_count": 10,
   "id": "8f2ea56e-9b62-4986-9ece-adc18d90ae46",
   "metadata": {},
   "outputs": [],
   "source": [
    "l = [2, 4, 6, 8, 10, 12, 14, 16,18, 20]\n",
    "\n",
    "ele = iter(l)"
   ]
  },
  {
   "cell_type": "code",
   "execution_count": 11,
   "id": "56bfdd63-fdf0-461c-8bc1-67f80a58b51d",
   "metadata": {},
   "outputs": [
    {
     "name": "stdout",
     "output_type": "stream",
     "text": [
      "2 4 6 8 10 "
     ]
    }
   ],
   "source": [
    "print(next(ele), end= ' ')\n",
    "print(next(ele), end= ' ')\n",
    "print(next(ele), end= ' ')\n",
    "print(next(ele), end= ' ')\n",
    "print(next(ele), end= ' ')"
   ]
  },
  {
   "cell_type": "code",
   "execution_count": 12,
   "id": "6ba4ce84-93e6-4ddb-9b9c-befae7248cc6",
   "metadata": {},
   "outputs": [
    {
     "name": "stdout",
     "output_type": "stream",
     "text": [
      "2 4 6 8 10 "
     ]
    }
   ],
   "source": [
    "for i in range(5):\n",
    "    print (l[i], end= ' ')"
   ]
  },
  {
   "cell_type": "markdown",
   "id": "3c6c8a4c-005b-49ae-a7fa-b8a8179cb178",
   "metadata": {},
   "source": [
    "### Q4. What is a generator function in python? Why yield keyword is used? Give an example of a generator function."
   ]
  },
  {
   "cell_type": "code",
   "execution_count": 13,
   "id": "53827119-d749-4ac1-bf90-14e5d1f82a8e",
   "metadata": {},
   "outputs": [
    {
     "data": {
      "text/plain": [
       "'\\nA generator function is a function that returns iterator ie a sequence of values.\\nit uses yield keyword instead of return. \\nThe yield keyword is used to return the sequence of values as a generator object without storing the same in memory location.\\n'"
      ]
     },
     "execution_count": 13,
     "metadata": {},
     "output_type": "execute_result"
    }
   ],
   "source": [
    "'''\n",
    "A generator function is a function that returns iterator ie a sequence of values.\n",
    "it uses yield keyword instead of return. \n",
    "The yield keyword is used to return the sequence of values as a generator object without storing the same in memory location.\n",
    "'''"
   ]
  },
  {
   "cell_type": "code",
   "execution_count": 14,
   "id": "2f4087cf-f060-4788-8ea2-a9a47058904c",
   "metadata": {},
   "outputs": [],
   "source": [
    "def gen_func(n):\n",
    "    yield [ x for x in range(n) if x%3 == 0]"
   ]
  },
  {
   "cell_type": "code",
   "execution_count": 15,
   "id": "23c7c128-8645-474b-9eda-d3965fe31a3d",
   "metadata": {},
   "outputs": [],
   "source": [
    "a = gen_func(30)"
   ]
  },
  {
   "cell_type": "code",
   "execution_count": 16,
   "id": "37868c57-7079-4cf8-96de-1760e5e398fa",
   "metadata": {},
   "outputs": [
    {
     "name": "stdout",
     "output_type": "stream",
     "text": [
      "[0, 3, 6, 9, 12, 15, 18, 21, 24, 27] "
     ]
    }
   ],
   "source": [
    "for i in a:\n",
    "    print(i, end =' ')"
   ]
  },
  {
   "cell_type": "markdown",
   "id": "fea22def-91ca-4e7e-b8a0-ba2a106942e3",
   "metadata": {},
   "source": [
    "### Q5. Create a generator function for prime numbers less than 1000. Use the next() method to print the first 20 prime numbers."
   ]
  },
  {
   "cell_type": "code",
   "execution_count": 17,
   "id": "4b604c0e-0f87-4c56-ac4e-43899d49e5c7",
   "metadata": {},
   "outputs": [],
   "source": [
    "def prime(n):\n",
    "    lst = []\n",
    "    for i in range(2,n):\n",
    "        if i!=2:\n",
    "            for j in range(2, i-1):\n",
    "                if i%j==0:\n",
    "                    break\n",
    "            else:\n",
    "                lst.append(i)\n",
    "        else:\n",
    "            lst.append(i)\n",
    "    else:\n",
    "        yield lst\n"
   ]
  },
  {
   "cell_type": "code",
   "execution_count": 18,
   "id": "46ba8ef9-3adf-4492-9cee-e975e670d918",
   "metadata": {},
   "outputs": [
    {
     "name": "stdout",
     "output_type": "stream",
     "text": [
      "2 3 5 7 11 13 17 19 23 29 31 37 41 43 47 53 59 61 67 71 "
     ]
    }
   ],
   "source": [
    "prime_20 = prime(1000)\n",
    "for x in next(prime_20)[:20]:\n",
    "    print (x, end = ' ')"
   ]
  },
  {
   "cell_type": "code",
   "execution_count": 19,
   "id": "440c0596-6f6e-4a72-9088-20842fdba374",
   "metadata": {},
   "outputs": [
    {
     "name": "stdout",
     "output_type": "stream",
     "text": [
      "2 3 5 7 11 13 17 19 23 29 31 37 41 43 47 53 59 61 67 71 "
     ]
    }
   ],
   "source": [
    "for y in range(20):\n",
    "    primes = prime(1000)\n",
    "    print (next(primes)[y], end = ' ')"
   ]
  },
  {
   "cell_type": "code",
   "execution_count": 20,
   "id": "dbcabc49-d32a-45ea-9ae1-b13e5ed3e0b5",
   "metadata": {},
   "outputs": [
    {
     "name": "stdout",
     "output_type": "stream",
     "text": [
      "[2, 3, 5, 7, 11, 13, 17, 19, 23, 29, 31, 37, 41, 43, 47, 53, 59, 61, 67, 71] "
     ]
    }
   ],
   "source": [
    "# primes = prime(1000)\n",
    "# print(next(primes)[:20], end= ' ')"
   ]
  },
  {
   "cell_type": "code",
   "execution_count": null,
   "id": "773ad8e6-18dc-4b31-a4d4-61815fd63c12",
   "metadata": {},
   "outputs": [],
   "source": []
  }
 ],
 "metadata": {
  "kernelspec": {
   "display_name": "Python 3 (ipykernel)",
   "language": "python",
   "name": "python3"
  },
  "language_info": {
   "codemirror_mode": {
    "name": "ipython",
    "version": 3
   },
   "file_extension": ".py",
   "mimetype": "text/x-python",
   "name": "python",
   "nbconvert_exporter": "python",
   "pygments_lexer": "ipython3",
   "version": "3.10.8"
  }
 },
 "nbformat": 4,
 "nbformat_minor": 5
}
