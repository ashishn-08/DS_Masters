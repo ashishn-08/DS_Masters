{
 "cells": [
  {
   "cell_type": "markdown",
   "id": "4fced2ca-1f9f-4e73-bf49-2dc5ae80fb21",
   "metadata": {},
   "source": [
    "# EXCEPTION HANDLING - 2"
   ]
  },
  {
   "cell_type": "markdown",
   "id": "4ebcced0-f957-4f32-b504-b62c3095376e",
   "metadata": {},
   "source": [
    "## Q1. Explain why we have to use the Exception class while creating a Custom Exception.\n"
   ]
  },
  {
   "cell_type": "code",
   "execution_count": null,
   "id": "ebb6b8f5-f2db-4e42-9334-6771b4c94eca",
   "metadata": {},
   "outputs": [],
   "source": [
    "'''\n",
    "While creating Custome Exception we have to use Exception class so that the custom exception inerits \n",
    "the properties of parent class Exception. The custom class can then be used in except block to print error.\n",
    "'''"
   ]
  },
  {
   "cell_type": "markdown",
   "id": "0d378e93-bd45-4f2b-90a4-f522c3c816d8",
   "metadata": {},
   "source": [
    "## Q2. Write a python program to print Python Exception Hierarchy."
   ]
  },
  {
   "cell_type": "code",
   "execution_count": null,
   "id": "361038f1-7dac-4007-a21f-da8a44a80169",
   "metadata": {},
   "outputs": [],
   "source": [
    "import inspect\n",
    "\n",
    "def Exception_hierarchy(cls, ind=0):\n",
    "    \n",
    "      # print name of the class\n",
    "    print ('-' * ind, cls.__name__)\n",
    "      \n",
    "    # iterating through subclasses\n",
    "    for i in cls.__subclasses__():\n",
    "        Exception_hierarchy(i,ind + 3)\n",
    "print(\"Python Exception Hierarchy : \")\n",
    "\n",
    "inspect.getclasstree(inspect.getmro(BaseException))\n",
    "Exception_hierarchy(BaseException)"
   ]
  },
  {
   "cell_type": "markdown",
   "id": "bd925f99-97c4-4828-804f-32f6b8f6bf74",
   "metadata": {},
   "source": [
    "## Q3. What errors are defined in the ArithmeticError class? Explain any two with an example.\n"
   ]
  },
  {
   "cell_type": "code",
   "execution_count": null,
   "id": "fb3aa2a8-b409-40a2-9a46-fc3890744a21",
   "metadata": {},
   "outputs": [],
   "source": [
    "'''\n",
    "Errors related to arithmetic operations are defined in the ArithmeticError class. Errors like ZeroDivisionError and \n",
    "OverflowError are defined in the above class.\n",
    "'''\n",
    "\n",
    "#ZeroDivisionError\n",
    "try:\n",
    "    11/0\n",
    "except ArithmeticError as e:\n",
    "    print(e.__class__, e)\n"
   ]
  },
  {
   "cell_type": "code",
   "execution_count": null,
   "id": "deb677f9-b76c-4b51-a7c5-40721de0e733",
   "metadata": {},
   "outputs": [],
   "source": [
    "#OverflowError\n",
    "try:\n",
    "    2.0 ** 10000 \n",
    "except ArithmeticError as e:\n",
    "    print(e.__class__, e)\n"
   ]
  },
  {
   "cell_type": "markdown",
   "id": "2cabcd7f-9d6d-4e3a-94c0-4996b4ec5b50",
   "metadata": {},
   "source": [
    "## Q4. Why LookupError class is used? Explain with an example KeyError and IndexError.\n"
   ]
  },
  {
   "cell_type": "code",
   "execution_count": null,
   "id": "28cad62b-5adc-4898-b561-6edf78a8c728",
   "metadata": {},
   "outputs": [],
   "source": [
    "'''LookupError class is used to handle exceptiond arising out of key or index errors in dict or sequence'''"
   ]
  },
  {
   "cell_type": "code",
   "execution_count": null,
   "id": "cf2090a3-f1ad-43b0-838e-0e37940b3a44",
   "metadata": {},
   "outputs": [],
   "source": [
    "#KeyError : To identify errors related to Key not found in dictionary\n",
    "#IndexError : To identify errors related to index in sequence\n",
    "\n",
    "try :\n",
    "    dict_1 = {'name':'Anil', 'Company':'ETA'}\n",
    "    print (dict_1['Name'])\n",
    "except LookupError as e:\n",
    "    print('Error:', e.__class__, e)\n",
    "finally:\n",
    "    try:\n",
    "        lst = [ i for i in range(0,5)]\n",
    "        print (lst[6])\n",
    "    except LookupError as e:\n",
    "        print('Error:', e.__class__, e)"
   ]
  },
  {
   "cell_type": "markdown",
   "id": "0c048ef1-4570-4055-9a95-01dc20fd93ad",
   "metadata": {},
   "source": [
    "## Q5. Explain ImportError. What is ModuleNotFoundError?\n"
   ]
  },
  {
   "cell_type": "code",
   "execution_count": null,
   "id": "bfc8b10b-8b70-49df-9271-16ace1f8f24e",
   "metadata": {},
   "outputs": [],
   "source": [
    "'''\n",
    "ImportError is base class that deals with errors arising while importing modules/libraries.\n",
    "ModuleNotFoundError is a specific subclass of ImportError which deals with specific error that arises when module\n",
    "can not be found during import process\n",
    "'''"
   ]
  },
  {
   "cell_type": "code",
   "execution_count": null,
   "id": "3f38f437-898d-4172-9f05-e691626f3209",
   "metadata": {},
   "outputs": [],
   "source": [
    "# ImportError\n",
    "\n",
    "try:\n",
    "    from datetime import module\n",
    "except ImportError as e:\n",
    "    print('Error Type:',e.__class__, e)"
   ]
  },
  {
   "cell_type": "code",
   "execution_count": null,
   "id": "ac3e6cc2-68b1-4898-96b5-26cb872f0767",
   "metadata": {},
   "outputs": [],
   "source": [
    "#ModuleNotFoundError\n",
    "\n",
    "try:\n",
    "    import module\n",
    "except ImportError as e:\n",
    "    print('Error Type:',e.__class__, e)"
   ]
  },
  {
   "cell_type": "markdown",
   "id": "2a0cac52-92b6-4d0a-9abf-00f2831114cb",
   "metadata": {},
   "source": [
    "## Q6. List down some best practices for exception handling in python."
   ]
  },
  {
   "cell_type": "code",
   "execution_count": null,
   "id": "24cfe1b8-4ef2-420f-a944-55e6a32275c2",
   "metadata": {},
   "outputs": [],
   "source": [
    "'''\n",
    "Some best practices for exception handling in python are as follows:\n",
    "\n",
    "1. Base Exception class should not be used in exception block. \n",
    "    Instead specific subclass exceptions should be used to identify the errors.\n",
    "2. In case of multiple exception handling, exceptions should be provided as per hierarchy to identify specific errors.\n",
    "3. Only the code which may cause errors should be provided in try block, rest may be provided in else or finally block\n",
    "    as the case may be.\n",
    "4. Message providing errors should be specific and meaningful so that the same may be identified and debugged.\n",
    "5. Logging should be done.\n",
    "6. Proper documentation.\n",
    "7. Cleaning up resources, delete variables to clean up memory.\n",
    "'''"
   ]
  },
  {
   "cell_type": "code",
   "execution_count": null,
   "id": "ece328ca-3b15-4b2f-9a6e-47a4e43070db",
   "metadata": {},
   "outputs": [],
   "source": [
    "# inspect.getclasstree(inspect.getmro(ImportError))\n",
    "# Exception_hierarchy(ImportError)"
   ]
  }
 ],
 "metadata": {
  "kernelspec": {
   "display_name": "Python 3 (ipykernel)",
   "language": "python",
   "name": "python3"
  },
  "language_info": {
   "codemirror_mode": {
    "name": "ipython",
    "version": 3
   },
   "file_extension": ".py",
   "mimetype": "text/x-python",
   "name": "python",
   "nbconvert_exporter": "python",
   "pygments_lexer": "ipython3",
   "version": "3.10.8"
  }
 },
 "nbformat": 4,
 "nbformat_minor": 5
}
