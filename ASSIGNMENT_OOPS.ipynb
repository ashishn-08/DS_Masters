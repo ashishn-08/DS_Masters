{
 "cells": [
  {
   "cell_type": "markdown",
   "id": "88d716ab-b1cb-486c-916a-b4fbbc6fcb23",
   "metadata": {},
   "source": [
    "# ASSIGNMNET - OOPS"
   ]
  },
  {
   "cell_type": "markdown",
   "id": "3a78be4c-4e0c-4fbc-a06e-12a1d35ea0fd",
   "metadata": {},
   "source": [
    "## Q1. Explain Class and Object with respect to Object-Oriented Programming. Give a suitable example."
   ]
  },
  {
   "cell_type": "code",
   "execution_count": null,
   "id": "d8914727-427b-483e-ba7e-638147f66a52",
   "metadata": {},
   "outputs": [],
   "source": [
    "'''\n",
    "A class is a blueprint to create user defined data structure containing various functions (methods) or properties.\n",
    "An object is an instance of class that carries the properties of the class.\n",
    "'''"
   ]
  },
  {
   "cell_type": "code",
   "execution_count": 33,
   "id": "00eed1c2-d8d5-42f6-9705-bb5a850398d0",
   "metadata": {},
   "outputs": [],
   "source": [
    "# Example \n",
    "\n",
    "class employee:\n",
    "    def emp_det(self):\n",
    "        self.name = input('Enter your name: ')\n",
    "        self.year = int(input ('Enter work_experience in years: '))\n",
    "    def salary_cal(self):\n",
    "        if self.year in range (0,5):\n",
    "            self.salary = 500000\n",
    "        elif self.year >= 5:\n",
    "            self.salary = 750000\n",
    "        print(f'{self.name}, based on your experience of {self.year} years, your salary must be Rs ',{self.salary})\n",
    "                        "
   ]
  },
  {
   "cell_type": "code",
   "execution_count": 30,
   "id": "b2cfd5df-8e2b-404f-a114-4afe370c283c",
   "metadata": {},
   "outputs": [
    {
     "name": "stdin",
     "output_type": "stream",
     "text": [
      "Enter your name:  Pintu\n",
      "Enter work_experience in years:  3\n"
     ]
    }
   ],
   "source": [
    "emp1 = employee()\n",
    "emp1.emp_det()"
   ]
  },
  {
   "cell_type": "code",
   "execution_count": 35,
   "id": "d6fa3d5e-ceeb-440a-82ae-858b8b1c2de7",
   "metadata": {},
   "outputs": [
    {
     "name": "stdin",
     "output_type": "stream",
     "text": [
      "Enter your name:  Sidhu\n",
      "Enter work_experience in years:  6\n"
     ]
    }
   ],
   "source": [
    "emp2 = employee()\n",
    "emp2.emp_det()"
   ]
  },
  {
   "cell_type": "code",
   "execution_count": 36,
   "id": "f422e7ca-4b88-4b58-9821-ec4ed1c152b4",
   "metadata": {},
   "outputs": [
    {
     "name": "stdout",
     "output_type": "stream",
     "text": [
      "Pintu, based on your experience of 3 years, your salary must be Rs  {500000}\n",
      "Sidhu, based on your experience of 6 years, your salary must be Rs  {750000}\n"
     ]
    },
    {
     "data": {
      "text/plain": [
       "(None, None)"
      ]
     },
     "execution_count": 36,
     "metadata": {},
     "output_type": "execute_result"
    }
   ],
   "source": [
    "emp1.salary_cal(), emp2.salary_cal()"
   ]
  },
  {
   "cell_type": "code",
   "execution_count": null,
   "id": "9cd0c431-8eec-462a-b55a-0bdb0c861a50",
   "metadata": {},
   "outputs": [],
   "source": [
    "# In the above example employee is the class and emp1 and emp2 are its object."
   ]
  },
  {
   "cell_type": "markdown",
   "id": "e9013f68-12cc-415f-892c-ddfdb9275277",
   "metadata": {},
   "source": [
    "## Q2. Name the four pillars of OOPs."
   ]
  },
  {
   "cell_type": "code",
   "execution_count": null,
   "id": "1bf04430-798e-4132-9b84-ed6e8f785dfb",
   "metadata": {},
   "outputs": [],
   "source": [
    "'''\n",
    "The four pillars of OOPs are :\n",
    "    i. Inheritance\n",
    "    ii. Encapsulation\n",
    "    iii. Polymorphism\n",
    "    iv. Abstraction\n",
    "'''"
   ]
  },
  {
   "cell_type": "markdown",
   "id": "d027fa4c-272c-426b-b714-4fa10eb01152",
   "metadata": {},
   "source": [
    "## Q3. Explain why the __init__() function is used. Give a suitable example."
   ]
  },
  {
   "cell_type": "code",
   "execution_count": 50,
   "id": "c684c791-df1b-4779-b726-1baf134e8189",
   "metadata": {},
   "outputs": [],
   "source": [
    "'''\n",
    "The init() function is a constructor and is used to initialize the class through the object whenever the object is created.\n",
    "The init function is used to assign values to the object attributes.\n",
    "'''\n",
    "\n",
    "# Example \n",
    "\n",
    "class employee1:\n",
    "    def __init__(self):\n",
    "        self.name = input('Enter your name: ')\n",
    "        self.year = int(input ('Enter work_experience in years: '))\n",
    "    def salary_cal(self):\n",
    "        if self.year in range (0,5):\n",
    "            self.salary = 500000\n",
    "        elif self.year >= 5:\n",
    "            self.salary = 750000\n",
    "        print(f'{self.name}, based on your experience of {self.year} years, your salary must be Rs ',self.salary)\n",
    "                        "
   ]
  },
  {
   "cell_type": "code",
   "execution_count": 53,
   "id": "c8ca17e5-ac7a-44f8-9622-f70cea440c9a",
   "metadata": {},
   "outputs": [
    {
     "name": "stdin",
     "output_type": "stream",
     "text": [
      "Enter your name:  Heera\n",
      "Enter work_experience in years:  7\n"
     ]
    }
   ],
   "source": [
    "emp3 = employee1()"
   ]
  },
  {
   "cell_type": "code",
   "execution_count": 54,
   "id": "e9bcdf11-91fc-4396-985f-4f8c89329723",
   "metadata": {},
   "outputs": [
    {
     "name": "stdout",
     "output_type": "stream",
     "text": [
      "Heera, based on your experience of 7 years, your salary must be Rs  750000\n"
     ]
    }
   ],
   "source": [
    "emp3.salary_cal()"
   ]
  },
  {
   "cell_type": "code",
   "execution_count": null,
   "id": "1359adfa-97e0-45e0-a892-7cc4554a26e1",
   "metadata": {},
   "outputs": [],
   "source": [
    "# In the above example attributes name and year are assigned to the object emp3 through employee1's init() function."
   ]
  },
  {
   "cell_type": "code",
   "execution_count": null,
   "id": "1a1fa7a7-623a-4e2c-9a35-86bada1587f0",
   "metadata": {},
   "outputs": [],
   "source": []
  },
  {
   "cell_type": "markdown",
   "id": "4dc6bee6-9f4a-46d3-a778-ce32b79577dc",
   "metadata": {},
   "source": [
    "## Q4. Why self is used in OOPs?"
   ]
  },
  {
   "cell_type": "code",
   "execution_count": null,
   "id": "1a0362e1-8c1f-4003-bd51-3f2bb58370fd",
   "metadata": {},
   "outputs": [],
   "source": [
    "'''\n",
    "self in OOPs is used to represent the current instance of the class.\n",
    "Through this the object is able to call the function, variable/attribute belonging to the class.\n",
    "'''"
   ]
  },
  {
   "cell_type": "code",
   "execution_count": null,
   "id": "e198fb02-0db1-4a5d-af35-b0a9ac25f3fb",
   "metadata": {},
   "outputs": [],
   "source": []
  },
  {
   "cell_type": "markdown",
   "id": "68f25cd1-0247-46ea-8c5b-c00b46cce42c",
   "metadata": {},
   "source": [
    "## Q5. What is inheritance? Give an example for each type of inheritance."
   ]
  },
  {
   "cell_type": "code",
   "execution_count": 56,
   "id": "3af7a22b-3c1a-4846-a5df-a01488427505",
   "metadata": {},
   "outputs": [],
   "source": [
    "'''\n",
    "Inheritance is the process by which the properties of one class (ie the parent class) can be inherited or passed\n",
    "to another class (ie the child class).\n",
    "'''\n",
    "\n",
    "class employee_tax(employee1):\n",
    "    def tax(self):\n",
    "        if self.salary <=500000:\n",
    "            self.tax_pay = 0\n",
    "        else:\n",
    "            self.tax_pay = 0.05 * self.salary\n",
    "        print (f'Tax payable on salary of Rs {self.salary} is Rs :', self.tax_pay)\n"
   ]
  },
  {
   "cell_type": "code",
   "execution_count": 58,
   "id": "f862391b-1063-48b8-b812-6d11ef95636d",
   "metadata": {},
   "outputs": [
    {
     "name": "stdin",
     "output_type": "stream",
     "text": [
      "Enter your name:  Moti\n",
      "Enter work_experience in years:  3\n"
     ]
    }
   ],
   "source": [
    "emp4 = employee_tax()"
   ]
  },
  {
   "cell_type": "code",
   "execution_count": 59,
   "id": "54adbeb6-8335-481f-bbf1-2d0f5b9cd874",
   "metadata": {},
   "outputs": [
    {
     "name": "stdout",
     "output_type": "stream",
     "text": [
      "Moti, based on your experience of 3 years, your salary must be Rs  500000\n"
     ]
    }
   ],
   "source": [
    "emp4.salary_cal()"
   ]
  },
  {
   "cell_type": "code",
   "execution_count": 48,
   "id": "685c9aa8-7a26-4ad1-96e5-4aa37b910753",
   "metadata": {},
   "outputs": [
    {
     "name": "stdout",
     "output_type": "stream",
     "text": [
      "Tax payable on salary of Rs 500000 is Rs : 0\n"
     ]
    }
   ],
   "source": [
    "emp4.tax()"
   ]
  },
  {
   "cell_type": "code",
   "execution_count": 60,
   "id": "3c69c17b-fee1-44ad-b62b-458bd4e1eb81",
   "metadata": {},
   "outputs": [
    {
     "name": "stdin",
     "output_type": "stream",
     "text": [
      "Enter your name:  Kiran\n",
      "Enter work_experience in years:  7\n"
     ]
    },
    {
     "name": "stdout",
     "output_type": "stream",
     "text": [
      "Kiran, based on your experience of 7 years, your salary must be Rs  750000\n",
      "Tax payable on salary of Rs 750000 is Rs : 37500.0\n"
     ]
    },
    {
     "data": {
      "text/plain": [
       "(None, None)"
      ]
     },
     "execution_count": 60,
     "metadata": {},
     "output_type": "execute_result"
    }
   ],
   "source": [
    "emp5 = employee_tax()\n",
    "emp5.salary_cal(), emp5.tax()"
   ]
  },
  {
   "cell_type": "code",
   "execution_count": null,
   "id": "0f3918ff-ebf8-487f-ab3b-5058f70be4a6",
   "metadata": {},
   "outputs": [],
   "source": [
    "'''In the above example, parent class is employee1 while the child class is employee_tax \n",
    "which inherits properties from employee1 class.\n",
    "'''"
   ]
  }
 ],
 "metadata": {
  "kernelspec": {
   "display_name": "Python 3 (ipykernel)",
   "language": "python",
   "name": "python3"
  },
  "language_info": {
   "codemirror_mode": {
    "name": "ipython",
    "version": 3
   },
   "file_extension": ".py",
   "mimetype": "text/x-python",
   "name": "python",
   "nbconvert_exporter": "python",
   "pygments_lexer": "ipython3",
   "version": "3.10.8"
  }
 },
 "nbformat": 4,
 "nbformat_minor": 5
}
