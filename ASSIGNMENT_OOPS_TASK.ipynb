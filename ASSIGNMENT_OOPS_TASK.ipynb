{
 "cells": [
  {
   "cell_type": "markdown",
   "id": "7a2036de-a10c-4ebd-8351-cd420dc4d6d1",
   "metadata": {},
   "source": [
    "# OOPS TASK ASSIGNMENT"
   ]
  },
  {
   "cell_type": "markdown",
   "id": "c9d8d117-aa13-4ae4-86b0-a92ad2d4f9d5",
   "metadata": {},
   "source": [
    "## Q1, Create a vehicle class with an init method having instance variables as name_of_vehicle, max_speed and average_of_vehicle."
   ]
  },
  {
   "cell_type": "code",
   "execution_count": 1,
   "id": "f6ff0d18-cb8c-4492-8ef5-9a61c0ec4ffa",
   "metadata": {},
   "outputs": [],
   "source": [
    "class vehicle:\n",
    "    \n",
    "    def __init__(self):\n",
    "        self.name_of_vehicle = input(' Enter name of vehicle: ')\n",
    "        self.max_speed = input('Enter maximum speed: ')\n",
    "        self.average_of_vehicle = input('Enter average of the vehicle: ')"
   ]
  },
  {
   "cell_type": "markdown",
   "id": "e20de60f-428d-4bba-8655-15a82626ed1b",
   "metadata": {},
   "source": [
    "## Q2. Create a child class car from the vehicle class created in Que 1, which will inherit the vehicle class. Create a method named seating_capacity which takes capacity as an argument and returns the name of the vehicle and its seating capacity."
   ]
  },
  {
   "cell_type": "code",
   "execution_count": 2,
   "id": "01e0184c-5b98-4b32-ba15-51cf353e2060",
   "metadata": {},
   "outputs": [],
   "source": [
    "class car(vehicle):\n",
    "    \n",
    "    def seating_capacity(self):\n",
    "        self.capacity = int(input('Enter seating capacity of the vehicle: '))\n",
    "        return f'{self.name_of_vehicle} has a seating capacity of {self.capacity}.'"
   ]
  },
  {
   "cell_type": "code",
   "execution_count": 3,
   "id": "6570cd66-83ca-4769-98a4-65caeb49c42b",
   "metadata": {},
   "outputs": [
    {
     "name": "stdin",
     "output_type": "stream",
     "text": [
      " Enter name of vehicle:  tata\n",
      "Enter maximum speed:  123\n",
      "Enter average of the vehicle:  12\n"
     ]
    }
   ],
   "source": [
    "car1 = car()"
   ]
  },
  {
   "cell_type": "code",
   "execution_count": 4,
   "id": "d676eac6-951d-4cf0-bf22-a2a5640e59d1",
   "metadata": {},
   "outputs": [
    {
     "name": "stdin",
     "output_type": "stream",
     "text": [
      "Enter seating capacity of the vehicle:  5\n"
     ]
    },
    {
     "data": {
      "text/plain": [
       "'tata has a seating capacity of 5.'"
      ]
     },
     "execution_count": 4,
     "metadata": {},
     "output_type": "execute_result"
    }
   ],
   "source": [
    "car1.seating_capacity()"
   ]
  },
  {
   "cell_type": "markdown",
   "id": "83ba08b0-af81-48a7-8d49-30c7d24a5d99",
   "metadata": {},
   "source": [
    "## Q3. What is multiple inheritance? Write a python code to demonstrate multiple inheritance."
   ]
  },
  {
   "cell_type": "code",
   "execution_count": 5,
   "id": "de9b99e1-56d3-47f5-8b40-a376a8dc52ab",
   "metadata": {},
   "outputs": [],
   "source": [
    "'''\n",
    "Multiple inheritance is a type of inheritance where the child class inherits properties from various parent classes\n",
    "which may not have inheritance property among themselves\n",
    "'''\n",
    "\n",
    "class car1:\n",
    "    def __init__(self):\n",
    "        self.type_of_car = input('Enter type of car from list (Sedan, SUV, CUV, Hatchbak): ')\n",
    "        # return self.type_of_car\n",
    "\n",
    "class car2:\n",
    "    def __init__(self):\n",
    "        self.color = input('Enter colour of car')\n",
    "        # return self.color\n",
    "    \n",
    "class car_details(car, car1, car2):\n",
    "    \n",
    "    def __init__(self):\n",
    "        car.__init__(self)\n",
    "        car1.__init__(self)\n",
    "        car2.__init__(self)\n",
    "        # self.type_of_car = self.type_car()\n",
    "        # self.color = self.colour_car()\n",
    "    \n",
    "    def print_details(self):\n",
    "        print('The car details entered by user are as follows: ')\n",
    "        print('Name of car: ', self.name_of_vehicle)\n",
    "        print('Type of car: ', self.type_of_car)\n",
    "        # print('Seating capacity : ',self.apacity)\n",
    "        print('Colour: ', self.color)\n",
    "        print(f'Maximum speed of car : {self.max_speed},  average of car : {self.average_of_vehicle}')"
   ]
  },
  {
   "cell_type": "code",
   "execution_count": 6,
   "id": "c67ae27e-a8b0-49f6-9b9f-f60216462655",
   "metadata": {},
   "outputs": [
    {
     "name": "stdin",
     "output_type": "stream",
     "text": [
      " Enter name of vehicle:  tata tiago\n",
      "Enter maximum speed:  140\n",
      "Enter average of the vehicle:  18\n",
      "Enter type of car from list (Sedan, SUV, CUV, Hatchbak):  hatchbak\n",
      "Enter colour of car yellow\n"
     ]
    }
   ],
   "source": [
    "car_new = car_details()"
   ]
  },
  {
   "cell_type": "code",
   "execution_count": 7,
   "id": "1b90d530-851f-4174-ac0d-2f631c6e8fe0",
   "metadata": {},
   "outputs": [
    {
     "name": "stdout",
     "output_type": "stream",
     "text": [
      "The car details entered by user are as follows: \n",
      "Name of car:  tata tiago\n",
      "Type of car:  hatchbak\n",
      "Colour:  yellow\n",
      "Maximum speed of car : 140,  average of car : 18\n"
     ]
    }
   ],
   "source": [
    "car_new.print_details()"
   ]
  },
  {
   "cell_type": "markdown",
   "id": "6d707cfa-af8e-4850-a56d-9360dd5f1a6a",
   "metadata": {},
   "source": [
    "## Q4. What are getter and setter in python? Create a class and create a getter and a setter method in this class."
   ]
  },
  {
   "cell_type": "code",
   "execution_count": 51,
   "id": "0e739213-6d36-4592-8d33-df27cadf27e1",
   "metadata": {},
   "outputs": [],
   "source": [
    "'''\n",
    "A Getter is a method by which private variables of a class can be accessed.\n",
    "A setter is a method by which the private variables of class are assigned values.\n",
    "'''\n",
    "\n",
    "class employee_pi:\n",
    "    def __init__(self, name,grade, salary ):\n",
    "        self.name = name\n",
    "        self.grade = grade\n",
    "        self.__salary = salary\n",
    "        # self.__increment = 10000\n",
    "      \n",
    "    @property\n",
    "    def fetch_emp_salary_det(self):\n",
    "        print('Current Salary: ')\n",
    "        return self.__salary\n",
    "    \n",
    "    @fetch_emp_salary_det.setter\n",
    "    def add_increment (self, increment):\n",
    "        if  self.grade <= 3:\n",
    "            self.__salary += (self.grade * increment)\n",
    "        else:\n",
    "            pass\n",
    "    \n"
   ]
  },
  {
   "cell_type": "code",
   "execution_count": 52,
   "id": "7717d513-6b45-4cbe-8087-31a52003443f",
   "metadata": {},
   "outputs": [],
   "source": [
    "em1 = employee_pi('Ratan', 2, 200000)\n"
   ]
  },
  {
   "cell_type": "code",
   "execution_count": 53,
   "id": "84d14768-6451-4f40-82c5-2cc8ddc74422",
   "metadata": {},
   "outputs": [
    {
     "name": "stdout",
     "output_type": "stream",
     "text": [
      "Current Salary: \n"
     ]
    },
    {
     "data": {
      "text/plain": [
       "200000"
      ]
     },
     "execution_count": 53,
     "metadata": {},
     "output_type": "execute_result"
    }
   ],
   "source": [
    "em1.fetch_emp_salary_det"
   ]
  },
  {
   "cell_type": "code",
   "execution_count": 54,
   "id": "1da15c1f-a610-4d10-8bc9-2ff85e28096b",
   "metadata": {},
   "outputs": [
    {
     "name": "stdout",
     "output_type": "stream",
     "text": [
      "Current Salary: \n"
     ]
    },
    {
     "data": {
      "text/plain": [
       "220000"
      ]
     },
     "execution_count": 54,
     "metadata": {},
     "output_type": "execute_result"
    }
   ],
   "source": [
    "em1.add_increment = 10000\n",
    "em1.fetch_emp_salary_det"
   ]
  },
  {
   "cell_type": "markdown",
   "id": "bdc0ce42-e332-4729-9c62-2066117c785d",
   "metadata": {},
   "source": [
    "## Q5.What is method overriding in python? Write a python code to demonstrate method overriding."
   ]
  },
  {
   "cell_type": "code",
   "execution_count": null,
   "id": "3752fc3d-6c23-4f19-abdf-58961504aa8f",
   "metadata": {},
   "outputs": [],
   "source": [
    "''' \n",
    "Method overriding referes to the process of defining a method within a child class having name and property \n",
    "similar to method of parent class. the method in the child class overrides the method in parent class\n",
    "'''\n"
   ]
  },
  {
   "cell_type": "code",
   "execution_count": 61,
   "id": "e3394ff6-1b23-4a2e-96d6-661f2e05a3d7",
   "metadata": {},
   "outputs": [],
   "source": [
    "class organisation:\n",
    "    def __init__(self, salary, increment):\n",
    "        self.sal = salary\n",
    "        self.inc = increment\n",
    "        \n",
    "    def new_salary(self):\n",
    "        self.sal += self.inc\n",
    "        return self.sal\n",
    "    \n",
    "class department1(organisation):\n",
    "    \n",
    "    def new_salary(self):\n",
    "        self.sal+= (self.inc*2)\n",
    "        return self.sal\n",
    "\n",
    "class department2(organisation):\n",
    "    \n",
    "    def new_salary(self):\n",
    "        self.sal+= (self.inc*1.5)\n",
    "        return int(self.sal)"
   ]
  },
  {
   "cell_type": "code",
   "execution_count": 62,
   "id": "ab0d10a9-d465-46ad-b16b-f53d737d7b63",
   "metadata": {},
   "outputs": [
    {
     "data": {
      "text/plain": [
       "110000"
      ]
     },
     "execution_count": 62,
     "metadata": {},
     "output_type": "execute_result"
    }
   ],
   "source": [
    "dep1 = organisation(100000, 10000)\n",
    "dep1.new_salary()"
   ]
  },
  {
   "cell_type": "code",
   "execution_count": 63,
   "id": "c0b46029-9ad8-4717-898e-1a6651defbdc",
   "metadata": {},
   "outputs": [
    {
     "data": {
      "text/plain": [
       "120000"
      ]
     },
     "execution_count": 63,
     "metadata": {},
     "output_type": "execute_result"
    }
   ],
   "source": [
    "dep2 = department1(100000, 10000)\n",
    "dep2.new_salary()"
   ]
  },
  {
   "cell_type": "code",
   "execution_count": 64,
   "id": "494cc5c1-0fb7-4f3e-bde2-bbe49ebc82ee",
   "metadata": {},
   "outputs": [
    {
     "data": {
      "text/plain": [
       "115000"
      ]
     },
     "execution_count": 64,
     "metadata": {},
     "output_type": "execute_result"
    }
   ],
   "source": [
    "dep3 = department2(100000, 10000)\n",
    "dep3.new_salary()"
   ]
  },
  {
   "cell_type": "code",
   "execution_count": null,
   "id": "73cecf92-0dd0-4af7-85c0-bdda689865c4",
   "metadata": {},
   "outputs": [],
   "source": [
    "# In the above example the method new_salary () behaves is overriden in the child classes."
   ]
  }
 ],
 "metadata": {
  "kernelspec": {
   "display_name": "Python 3 (ipykernel)",
   "language": "python",
   "name": "python3"
  },
  "language_info": {
   "codemirror_mode": {
    "name": "ipython",
    "version": 3
   },
   "file_extension": ".py",
   "mimetype": "text/x-python",
   "name": "python",
   "nbconvert_exporter": "python",
   "pygments_lexer": "ipython3",
   "version": "3.10.8"
  }
 },
 "nbformat": 4,
 "nbformat_minor": 5
}
