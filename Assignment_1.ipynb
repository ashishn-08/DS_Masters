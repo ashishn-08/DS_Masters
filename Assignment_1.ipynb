{
 "cells": [
  {
   "cell_type": "markdown",
   "id": "fbb1ac69-5ae2-4733-81d1-c3355f4f8d81",
   "metadata": {},
   "source": [
    "##Assignment - 1"
   ]
  },
  {
   "cell_type": "markdown",
   "id": "e55b5cbc-c819-491b-94a5-82e4cf9e7875",
   "metadata": {},
   "source": [
    "##Q1"
   ]
  },
  {
   "cell_type": "code",
   "execution_count": 1,
   "id": "9e523c89-5c9a-425e-8fef-6f0bdfb0737c",
   "metadata": {
    "tags": []
   },
   "outputs": [
    {
     "data": {
      "text/plain": [
       "str"
      ]
     },
     "execution_count": 1,
     "metadata": {},
     "output_type": "execute_result"
    }
   ],
   "source": [
    "#(i) string\n",
    "\n",
    "place = 'DELHI'\n",
    "type(place)"
   ]
  },
  {
   "cell_type": "code",
   "execution_count": 2,
   "id": "3584378b-9e63-4ecd-a9e9-338a5afc450f",
   "metadata": {},
   "outputs": [
    {
     "name": "stdout",
     "output_type": "stream",
     "text": [
      "[1, 'rajesh', 'DELHI', 3.5]\n"
     ]
    },
    {
     "data": {
      "text/plain": [
       "list"
      ]
     },
     "execution_count": 2,
     "metadata": {},
     "output_type": "execute_result"
    }
   ],
   "source": [
    "#(ii) list\n",
    "\n",
    "x= [1, 'rajesh', place, 3.5]\n",
    "print(x)\n",
    "type(x)"
   ]
  },
  {
   "cell_type": "code",
   "execution_count": 3,
   "id": "81448e8c-690b-4815-ab4f-9b1e3164329c",
   "metadata": {
    "tags": []
   },
   "outputs": [
    {
     "name": "stdout",
     "output_type": "stream",
     "text": [
      "3.5\n"
     ]
    },
    {
     "data": {
      "text/plain": [
       "float"
      ]
     },
     "execution_count": 3,
     "metadata": {},
     "output_type": "execute_result"
    }
   ],
   "source": [
    "#(iii) float\n",
    "y = x[3]\n",
    "print(y)\n",
    "type(y)"
   ]
  },
  {
   "cell_type": "markdown",
   "id": "eeb5aa0d-90e3-40ec-80f1-ac7b14e7771c",
   "metadata": {},
   "source": [
    "##Q2"
   ]
  },
  {
   "cell_type": "code",
   "execution_count": 4,
   "id": "c50344d8-4e63-4f80-8eba-56e8fc59b8fd",
   "metadata": {},
   "outputs": [],
   "source": [
    "#i. string\n",
    "#ii. string\n",
    "#iii. list\n",
    "#iv. float"
   ]
  },
  {
   "cell_type": "markdown",
   "id": "7d357efc-538f-4491-a8d7-c4ebd9f55de7",
   "metadata": {},
   "source": [
    "##Q3"
   ]
  },
  {
   "cell_type": "code",
   "execution_count": 5,
   "id": "313dc4a8-ae21-47d9-af4f-cd59b9d19654",
   "metadata": {},
   "outputs": [
    {
     "name": "stdout",
     "output_type": "stream",
     "text": [
      "12/7 =  1.7142857142857142\n",
      "12%7 =  5\n",
      "12//7 =  1\n",
      "12**7 = 144\n"
     ]
    }
   ],
   "source": [
    "#i. to find result of division\n",
    "print('12/7 = ', 12/7)\n",
    "\n",
    "#ii. to find quotient \n",
    "print('12%7 = ',12%7)\n",
    "\n",
    "#iii. to find remainder\n",
    "print('12//7 = ', 12//7)\n",
    "\n",
    "#iv. to calculate 'raise to the power of'\n",
    "print ('12**7 =', 12**2)"
   ]
  },
  {
   "cell_type": "markdown",
   "id": "acd969cf-0d3d-4ac3-bd03-678c7a129d86",
   "metadata": {},
   "source": [
    "##Q4"
   ]
  },
  {
   "cell_type": "code",
   "execution_count": 6,
   "id": "6d5eedcf-206d-4984-aef8-56e2a164e694",
   "metadata": {},
   "outputs": [
    {
     "name": "stdout",
     "output_type": "stream",
     "text": [
      "value : 12\n",
      "data type:  <class 'int'>\n",
      "value : 2.5\n",
      "data type:  <class 'float'>\n",
      "value : namaste\n",
      "data type:  <class 'str'>\n",
      "value : ['raise', '1980']\n",
      "data type:  <class 'list'>\n",
      "value : DELHI\n",
      "data type:  <class 'str'>\n",
      "value : rajesh\n",
      "data type:  <class 'str'>\n",
      "value : 89\n",
      "data type:  <class 'int'>\n",
      "value : India\n",
      "data type:  <class 'str'>\n",
      "value : True\n",
      "data type:  <class 'bool'>\n",
      "value : (5+8j)\n",
      "data type:  <class 'complex'>\n"
     ]
    }
   ],
   "source": [
    "list_1 = [12, 2.5, 'namaste', ['raise', '1980'], place, x[1], 89, 'India', True, 5+8j]\n",
    "\n",
    "for i in list_1:\n",
    "    print('value :',i)\n",
    "    print('data type: ',type(i))\n"
   ]
  },
  {
   "cell_type": "markdown",
   "id": "65793624-f58a-4de0-bf5e-1462e5a205e1",
   "metadata": {},
   "source": [
    "##Q5"
   ]
  },
  {
   "cell_type": "code",
   "execution_count": 7,
   "id": "88e510ca-c51c-47d6-8b9b-c7bfd1d3bf73",
   "metadata": {},
   "outputs": [
    {
     "name": "stdout",
     "output_type": "stream",
     "text": [
      " 27 is purely divisible by 3 by 9 times\n"
     ]
    }
   ],
   "source": [
    "#A = input('Enter first no:')\n",
    "#B = input('Enter second no:')\n",
    "\n",
    "A=27\n",
    "B=3\n",
    "while A%B != 0:\n",
    "    print(f' {A} is not purely divisible by {B}')\n",
    "    break\n",
    "else:\n",
    "    print(f' {A} is purely divisible by {B} by {A//B} times')"
   ]
  },
  {
   "cell_type": "code",
   "execution_count": 8,
   "id": "426f0442-82f3-4422-8ef5-bbfdd03f91a1",
   "metadata": {
    "tags": []
   },
   "outputs": [
    {
     "name": "stdout",
     "output_type": "stream",
     "text": [
      "12 is divisible by 3\n",
      "7 is not divisible by 3\n",
      "34 is not divisible by 3\n",
      "87 is divisible by 3\n",
      "23 is not divisible by 3\n",
      "99 is divisible by 3\n",
      "36 is divisible by 3\n",
      "90 is divisible by 3\n",
      "789 is divisible by 3\n",
      "765 is divisible by 3\n",
      "349 is not divisible by 3\n",
      "7896 is divisible by 3\n",
      "32 is not divisible by 3\n",
      "76 is not divisible by 3\n",
      "900 is divisible by 3\n",
      "500 is not divisible by 3\n",
      "321 is divisible by 3\n",
      "761 is not divisible by 3\n",
      "897 is divisible by 3\n",
      "98 is not divisible by 3\n",
      "96 is divisible by 3\n",
      "328 is not divisible by 3\n",
      "121 is not divisible by 3\n",
      "764 is not divisible by 3\n",
      "780 is divisible by 3\n",
      "4316 is not divisible by 3\n"
     ]
    }
   ],
   "source": [
    "##Q6\n",
    "\n",
    "list_2 = [12,7,34,87,23,99,36,90,789,765,349,7896,32,76,900,500,321,761,897,98, 96, 328,121,764,780,4316 ]\n",
    "\n",
    "for i in list_2:\n",
    "    if i%3 == 0:\n",
    "        print (i, 'is divisible by 3')\n",
    "    else:\n",
    "        print (i, 'is not divisible by 3')"
   ]
  },
  {
   "cell_type": "code",
   "execution_count": 9,
   "id": "db962ef0-3b9c-4984-81c0-dccd4f31cc42",
   "metadata": {
    "tags": []
   },
   "outputs": [
    {
     "name": "stdout",
     "output_type": "stream",
     "text": [
      "original value of m2: [12, 'dear', 7.8]\n",
      "modified value of m2:  [12, 'read', 7.8]\n"
     ]
    }
   ],
   "source": [
    "#Q7\n",
    "\n",
    "#Mutable data types are those whose values can be modified/ replaced using indexes\n",
    "#eg: list\n",
    "\n",
    "m2=[12, 'dear', 7.8]\n",
    "print('original value of m2:',m2)\n",
    "m2[1]='read'\n",
    "print('modified value of m2: ',m2)\n",
    "\n",
    "\n",
    "#Immutable datatype are those whose values cannot be modified/ replaced using indexes \n",
    "# eg : string\n",
    "m1='read'\n",
    "#m1[2]='e'\n",
    "#error\n"
   ]
  },
  {
   "cell_type": "code",
   "execution_count": null,
   "id": "cd74d02c-99e7-4c20-98cb-3adedb383eab",
   "metadata": {},
   "outputs": [],
   "source": []
  }
 ],
 "metadata": {
  "kernelspec": {
   "display_name": "Python 3 (ipykernel)",
   "language": "python",
   "name": "python3"
  },
  "language_info": {
   "codemirror_mode": {
    "name": "ipython",
    "version": 3
   },
   "file_extension": ".py",
   "mimetype": "text/x-python",
   "name": "python",
   "nbconvert_exporter": "python",
   "pygments_lexer": "ipython3",
   "version": "3.10.8"
  }
 },
 "nbformat": 4,
 "nbformat_minor": 5
}
